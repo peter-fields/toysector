{
 "cells": [
  {
   "cell_type": "code",
   "execution_count": 33,
   "id": "bea4e08e-b566-480b-9bf9-a7621ea6b39f",
   "metadata": {},
   "outputs": [],
   "source": [
    "using DrWatson\n",
    "using Pkg\n",
    "@quickactivate \"toysector\"\n",
    "using CSV, DelimitedFiles, HypothesisTests, BSON, Distributions, Random \n",
    "using SpinModels, Optim, Parameters, CUDA, LinearAlgebra, Statistics, Printf, Flux\n",
    "using BenchmarkTools, PyPlot\n",
    "import StatsBase.countmap\n",
    "import DrWatson.savename\n",
    "\n",
    "# include( srcdir( \"toysector.jl\" ) )\n",
    "# include( srcdir( \"false_positive_funcs.jl\" )  )\n",
    "# include( srcdir(\"fitting.jl\") )\n"
   ]
  },
  {
   "cell_type": "markdown",
   "id": "dd823363-7d50-463d-9ee2-45e57dee2d25",
   "metadata": {},
   "source": [
    "# generate samples"
   ]
  },
  {
   "cell_type": "code",
   "execution_count": 5,
   "id": "8725c448-2536-4351-8f91-349c5d817b66",
   "metadata": {},
   "outputs": [
    {
     "data": {
      "text/plain": [
       "sample_toy_model (generic function with 1 method)"
      ]
     },
     "execution_count": 5,
     "metadata": {},
     "output_type": "execute_result"
    }
   ],
   "source": [
    "include(scriptsdir(\"sample_sector_model_q=5.jl\"))"
   ]
  },
  {
   "cell_type": "code",
   "execution_count": 31,
   "id": "9bd601ad-1f80-4ce0-be8d-1f51481c1428",
   "metadata": {},
   "outputs": [
    {
     "data": {
      "text/plain": [
       "main (generic function with 1 method)"
      ]
     },
     "execution_count": 31,
     "metadata": {},
     "output_type": "execute_result"
    }
   ],
   "source": [
    "function main(;  M=500,  seed=123, \n",
    "            FloatType=Float32, Npairs=5, \n",
    "            Nnoise=18, q=5, rawJ=1, Ξ=5, S=7, \n",
    "            m=3  )\n",
    "    # M is number of samples\n",
    "    sampledir(args...) = datadir(\"toysector_q=5\",\"nsamples=$M\", args...)\n",
    "    isdir(sampledir()) || mkpath( sampledir() )\n",
    "    \n",
    "    sector_temps = [1, 1/2.5, 1/5.]\n",
    "    Random.seed!(seed)\n",
    "    \n",
    "    for Tsec in sector_temps\n",
    "        filename = sampledir(@sprintf(\"sector_temp=%.2f_m=%i_samples.bson\", Tsec, m))\n",
    "        # println(filename)\n",
    "        isfile( filename ) && (\n",
    "            println(\"samples already taken at Tsec=$Tsec and m=$m || skipping...\"); \n",
    "            continue)\n",
    "        _, θsec = init_toy_model(Tsec; FloatType=FloatType, \n",
    "                rawJ=rawJ, Ξ=Ξ, q=q, S=S, m=m, npairwise=2*Npairs )\n",
    "        z = sample_toy_model( M, rawJ, θsec ; Npairs=Npairs, Nnoise=Nnoise)\n",
    "        bson(filename, samples = z)\n",
    "        println(\"samples taken at Tsec=$Tsec and m=$m \\n\")\n",
    "    end\n",
    "    \n",
    "end"
   ]
  },
  {
   "cell_type": "code",
   "execution_count": 32,
   "id": "8a82833f-7a42-4fc0-8881-666d4e6ec717",
   "metadata": {},
   "outputs": [
    {
     "name": "stdout",
     "output_type": "stream",
     "text": [
      "samples already taken at Tsec=1.0 and m=1 || skipping...\n",
      "samples already taken at Tsec=0.4 and m=1 || skipping...\n",
      "samples taken at Tsec=0.2 and m=1 \n",
      "\n",
      "samples already taken at Tsec=1.0 and m=2 || skipping...\n",
      "samples already taken at Tsec=0.4 and m=2 || skipping...\n",
      "samples taken at Tsec=0.2 and m=2 \n",
      "\n",
      "samples already taken at Tsec=1.0 and m=3 || skipping...\n",
      "samples already taken at Tsec=0.4 and m=3 || skipping...\n",
      "samples already taken at Tsec=0.2 and m=3 || skipping...\n"
     ]
    }
   ],
   "source": [
    "Random.seed!(123)\n",
    "for m in [1,2,3]\n",
    "    seed=rand(1:100_000)\n",
    "    main(; M=500, seed=seed, m=m)\n",
    "end"
   ]
  },
  {
   "cell_type": "code",
   "execution_count": 17,
   "id": "99c3a1b5-6dad-4323-9810-cd54ca001ac0",
   "metadata": {},
   "outputs": [
    {
     "data": {
      "text/plain": [
       "0.2"
      ]
     },
     "execution_count": 17,
     "metadata": {},
     "output_type": "execute_result"
    }
   ],
   "source": []
  },
  {
   "cell_type": "code",
   "execution_count": 15,
   "id": "8d4dc841-c655-4f58-a568-26f7d98436e2",
   "metadata": {},
   "outputs": [
    {
     "data": {
      "text/plain": [
       "0.4"
      ]
     },
     "execution_count": 15,
     "metadata": {},
     "output_type": "execute_result"
    }
   ],
   "source": []
  },
  {
   "cell_type": "code",
   "execution_count": null,
   "id": "037c7df6-ad77-4ee8-9436-eda826b42b71",
   "metadata": {},
   "outputs": [],
   "source": []
  }
 ],
 "metadata": {
  "kernelspec": {
   "display_name": "Julia 1.8.1",
   "language": "julia",
   "name": "julia-1.8"
  },
  "language_info": {
   "file_extension": ".jl",
   "mimetype": "application/julia",
   "name": "julia",
   "version": "1.8.1"
  }
 },
 "nbformat": 4,
 "nbformat_minor": 5
}
