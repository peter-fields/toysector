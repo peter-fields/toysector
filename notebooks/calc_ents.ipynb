{
 "cells": [
  {
   "cell_type": "code",
   "execution_count": 77,
   "id": "cbde7f7e-a8f8-4e92-94db-7644b3b3f371",
   "metadata": {},
   "outputs": [
    {
     "data": {
      "text/plain": [
       "trace! (generic function with 1 method)"
      ]
     },
     "execution_count": 77,
     "metadata": {},
     "output_type": "execute_result"
    }
   ],
   "source": [
    "using DrWatson\n",
    "using Pkg\n",
    "@quickactivate \"toysector\"\n",
    "using CSV, DelimitedFiles, HypothesisTests, BSON, Distributions, Random \n",
    "using SpinModels, Optim, Parameters, CUDA, LinearAlgebra, Statistics, Printf, Flux\n",
    "using BenchmarkTools, PyPlot\n",
    "import StatsBase.countmap\n",
    "import DrWatson.savename\n",
    "\n",
    "include( srcdir( \"fitting.jl\"   ) )\n",
    "include( srcdir( \"toysector.jl\" ) )\n",
    "include( srcdir( \"false_positive_funcs.jl\" ) )\n",
    "include( srcdir( \"samplers.jl\"             ) )\n",
    "include( srcdir( \"aisZ.jl\" ))"
   ]
  },
  {
   "cell_type": "code",
   "execution_count": 73,
   "id": "4aee0055-043f-4aa2-a4bd-d64b9bd78db4",
   "metadata": {},
   "outputs": [
    {
     "data": {
      "text/plain": [
       "(5, 35)"
      ]
     },
     "execution_count": 73,
     "metadata": {},
     "output_type": "execute_result"
    }
   ],
   "source": [
    "folds = 5\n",
    "seed = 123\n",
    "Random.seed!(seed)\n",
    "calc_f_pos = true\n",
    "nsamples_for_fpos = 10_000;\n",
    "calc_H = true\n",
    "\n",
    "q,N = (5,35)"
   ]
  },
  {
   "cell_type": "code",
   "execution_count": 2,
   "id": "04b25c8b-0da7-4e9b-96b8-9f6a013ea51d",
   "metadata": {},
   "outputs": [
    {
     "data": {
      "text/plain": [
       "9-element Vector{Dict{Symbol, Real}}:\n",
       " Dict(:m => 1, :M => 500, :T_sec => 1.0)\n",
       " Dict(:m => 2, :M => 500, :T_sec => 1.0)\n",
       " Dict(:m => 3, :M => 500, :T_sec => 1.0)\n",
       " Dict(:m => 1, :M => 500, :T_sec => 0.4)\n",
       " Dict(:m => 2, :M => 500, :T_sec => 0.4)\n",
       " Dict(:m => 3, :M => 500, :T_sec => 0.4)\n",
       " Dict(:m => 1, :M => 500, :T_sec => 0.2)\n",
       " Dict(:m => 2, :M => 500, :T_sec => 0.2)\n",
       " Dict(:m => 3, :M => 500, :T_sec => 0.2)"
      ]
     },
     "execution_count": 2,
     "metadata": {},
     "output_type": "execute_result"
    }
   ],
   "source": [
    "samples_to_fit_all = Dict{Symbol, Any}(\n",
    "    :M => [500], #nsamples\n",
    "#     :T_sec => [0.2, 0.25, 0.3, 0.4, 0.5, 0.6]  \n",
    "    :T_sec => [1.,0.4, 0.2],\n",
    "    :m => [1,2,3]\n",
    "    )\n",
    "\n",
    "modls = [:Pairwise]# , :RBM]#, :SRBM]\n",
    "\n",
    "params_sets = Dict{Symbol,Any}(\n",
    "        :Pairwise => Dict{Symbol, Any}(\n",
    "        :reg_J => [(10f0^log10λ, 2) for log10λ ∈ -8:1],\n",
    "        :reg_h => [(10f0^log10λ, 2) for log10λ ∈ 2:2],\n",
    "        :epochs => 20_000,\n",
    "        :showevery => 500,\n",
    "        :progTol => 10^-6\n",
    "    )\n",
    "     # ,\n",
    "     #     :RBM => Dict{Symbol, Any}(\n",
    "     #     :reg_W => [(10f0^log10λ, 2) for log10λ ∈ -8:-1],\n",
    "     #     :reg_h => [(10f0^log10λ, 2) for log10λ ∈ -4:2],\n",
    "     #     :P => [10,20,30,40,50],\n",
    "     #     :epochs => 20_000,\n",
    "     #     :showevery => 500,\n",
    "     #     :progTol => 10^-6\n",
    "     # )\n",
    "#     ,\n",
    "#     :SRBM => Dict{Symbol, Any}(\n",
    "#         :reg_J => [(10f0^log10λ, 2) for log10λ ∈ -6:-1],\n",
    "#         :reg_W => [(10f0^log10λ, 2) for log10λ ∈ -8:-1],\n",
    "#         :reg_h => [(10f0^log10λ, 2) for log10λ ∈ -4:2],\n",
    "#         :P => collect(10:20:50),\n",
    "#         :epochs => 20_000,\n",
    "#         :showevery => 50,\n",
    "#         :progTol => 10^-6\n",
    "#     )\n",
    ")\n",
    "\n",
    "samples_to_fit_dict_list = dict_list(samples_to_fit_all)"
   ]
  },
  {
   "cell_type": "code",
   "execution_count": 74,
   "id": "736487d7-25ba-4be7-9b05-d02b62f77981",
   "metadata": {},
   "outputs": [],
   "source": [
    "# dict_list( params_sets[:Pairwise] )"
   ]
  },
  {
   "cell_type": "code",
   "execution_count": 71,
   "id": "6a1f85ba-7246-429b-a90f-5accbe17d462",
   "metadata": {},
   "outputs": [
    {
     "data": {
      "text/plain": [
       "get_fpos_from_samps (generic function with 1 method)"
      ]
     },
     "execution_count": 71,
     "metadata": {},
     "output_type": "execute_result"
    }
   ],
   "source": [
    "\n",
    "# _, θsec =  init_toy_model( Tsec, m=m )\n",
    "\n",
    "function get_fpos_from_samps(results,θsec)\n",
    "    z  = results[:z_from_fit]\n",
    "    H_ = results[:fit_entropy][:entropy]\n",
    "    E_under_gt = sectorenergy(z[:,29:35,:], θsec, \n",
    "        SectorEnergyBuffer(θsec, size(results[:z_from_fit],3)))\n",
    "    n_fpos = E_under_gt .== Inf32\n",
    "    # @show n_fpos\n",
    "    \n",
    "    f_pos= sum(n_fpos)/length(n_fpos)\n",
    "    return f_pos, H_\n",
    "end"
   ]
  },
  {
   "cell_type": "code",
   "execution_count": 83,
   "id": "0646083d-8515-472d-99f8-67013a899daf",
   "metadata": {},
   "outputs": [
    {
     "data": {
      "text/plain": [
       "write_ents_f_pos_to_d (generic function with 2 methods)"
      ]
     },
     "execution_count": 83,
     "metadata": {},
     "output_type": "execute_result"
    }
   ],
   "source": [
    "function write_ents_f_pos_to_d(Tsec, m, Tsamp, results,d, mdl_str)\n",
    "    if Tsamp == 1\n",
    "        θpw, θsec = init_toy_model( Tsec, m=m )\n",
    "        f_pos, H_= get_fpos_from_samps(results,θsec)\n",
    "        if isnothing(d[:true_entropy])\n",
    "            d[:true_entropy] = H_toymodel( θpw, θsec )[:Htotal]\n",
    "        end\n",
    "        if isnothing(d[:false_pos_rate])\n",
    "            d[:false_pos_rate]=f_pos\n",
    "        end\n",
    "        if isnothing(d[:fit_entropy])\n",
    "            d[:fit_entropy]=H_\n",
    "        end\n",
    "    end\n",
    "    BSON.@save mdl_str*\".bson\" d\n",
    "end"
   ]
  },
  {
   "cell_type": "markdown",
   "id": "076e1ec6-3331-4d16-8da4-4fcc6b7ef54b",
   "metadata": {},
   "source": [
    "# main loop for calcs"
   ]
  },
  {
   "cell_type": "code",
   "execution_count": 80,
   "id": "574db297-7d59-40c6-8704-a6823b8a9cab",
   "metadata": {},
   "outputs": [
    {
     "name": "stdout",
     "output_type": "stream",
     "text": [
      "sdfg"
     ]
    }
   ],
   "source": [
    "@printf(\"sdfg\")"
   ]
  },
  {
   "cell_type": "code",
   "execution_count": 82,
   "id": "bd82229a-88c2-49b0-ae05-ad965b2bb6e2",
   "metadata": {},
   "outputs": [
    {
     "name": "stdout",
     "output_type": "stream",
     "text": [
      "GETTING ENTS AT DIFF T FOR MODELS FIT TO DATA FOR Tsec = 1.00 and m=1\n",
      "CUDA.functional() = false\n",
      "\n",
      "Begin calculations of H and frac_func of Pairwise model\n",
      "\n",
      "-----------------------------------------------\n",
      "L2_regh=1e2.0_regJ=1e-8.0\n",
      "model alrealy fit. loading into memory\n",
      "-----------------------------------------------\n",
      "typeof(θ) = Pairwise{Matrix{Float32}, Array{Float32, 4}}\n",
      "calculating entropy for T = 1.000000\n",
      "         i    Zᵦᵢ/Zᵦ₍ᵢ₋₁₎  mean(Eᵦ₍ᵢ₋₁₎)  std(Eᵦ₍ᵢ₋₁₎)    rate  time (s)  sample steps\n",
      "----------  ------------  -------------  -----------   ------  --------  ------------\n",
      "        50  9.899142e-01    4.99891e-01   5.5794e-01  0.9315  3.76e+01           110\n",
      "       100  9.958473e-01    4.17686e-01   1.0638e+00  0.8780  1.06e+02            93\n",
      "       150  1.001472e+00   -2.11184e-01   1.5418e+00  0.8012  1.76e+02            68\n",
      "       200  1.006470e+00   -1.27380e+00   1.9493e+00  0.7607  2.45e+02            82\n",
      "       250  1.011216e+00   -2.76646e+00   2.3092e+00  0.7018  3.17e+02            55\n",
      "       300  1.015574e+00   -4.60824e+00   2.7236e+00  0.6483  3.85e+02           113\n",
      "       350  1.019586e+00   -6.75633e+00   3.0085e+00  0.6057  4.61e+02           112\n",
      "       400  1.023286e+00   -9.17091e+00   3.3161e+00  0.5682  5.37e+02           174\n",
      "       450  1.026398e+00   -1.16845e+01   3.6167e+00  0.5337  6.07e+02            75\n",
      "       500  1.029713e+00   -1.45959e+01   3.8747e+00  0.5163  6.75e+02           122\n",
      "       550  1.032674e+00   -1.76360e+01   4.1152e+00  0.4665  7.41e+02            96\n",
      "       600  1.035404e+00   -2.08246e+01   4.3590e+00  0.4457  1.95e+03            61\n",
      "       650  1.038171e+00   -2.42955e+01   4.5998e+00  0.4237  2.25e+03            53\n",
      "       700  1.040564e+00   -2.77774e+01   4.8907e+00  0.3913  2.39e+03            66\n",
      "       750  1.042968e+00   -3.14937e+01   5.0949e+00  0.3822  2.46e+03            62\n",
      "       800  1.045334e+00   -3.54073e+01   5.2755e+00  0.3623  2.53e+03           103\n",
      "       850  1.047470e+00   -3.93564e+01   5.5545e+00  0.3463  2.59e+03            56\n",
      "       900  1.049643e+00   -4.35384e+01   5.7745e+00  0.3238  2.65e+03           145\n",
      "       950  1.051777e+00   -4.78872e+01   5.9956e+00  0.3092  2.72e+03           183\n",
      "      1000  1.053945e+00   -5.24686e+01   6.1552e+00  0.2932  2.78e+03            68\n",
      "ais_result = Dict{Symbol, Any}(:T => 1.0f0, :logZ => 81.998276f0, :entropy => 29.245567f0, :meanE => -52.75271f0)\n"
     ]
    },
    {
     "ename": "LoadError",
     "evalue": "UndefVarError: mdl_str not defined",
     "output_type": "error",
     "traceback": [
      "UndefVarError: mdl_str not defined",
      "",
      "Stacktrace:",
      " [1] write_ents_f_pos_to_d(Tsec::Float64, m::Int64, Tsamp::Float64, results::Dict{Symbol, Any}, d::Dict{Symbol, Any})",
      "   @ Main ./In[72]:15",
      " [2] top-level scope",
      "   @ In[82]:115",
      " [3] eval",
      "   @ ./boot.jl:368 [inlined]",
      " [4] include_string(mapexpr::typeof(REPL.softscope), mod::Module, code::String, filename::String)",
      "   @ Base ./loading.jl:1428"
     ]
    }
   ],
   "source": [
    "for k in 1:length(samples_to_fit_dict_list)\n",
    "\n",
    "    samples_to_fit_info=samples_to_fit_dict_list[k]\n",
    "    sampledir(args...) = datadir(\"toysector_q=5\", \n",
    "        \"nsamples=$(samples_to_fit_info[:M])\", args...)\n",
    "\n",
    "    fitsdir(args...) = sampledir(\"fitted_models\", \n",
    "        @sprintf(\"sector_temp=%.2f_m=%i\", \n",
    "            samples_to_fit_info[:T_sec], samples_to_fit_info[:m]), \n",
    "        args...)\n",
    "\n",
    "    Tsec, m = (samples_to_fit_info[:T_sec], samples_to_fit_info[:m])\n",
    "\n",
    "    sweep_dicts = Dict{Symbol, Any}()\n",
    "\n",
    "    Tsamps = collect(1:-0.1:0.1)\n",
    "    # Tsamps = [0.1, 0.2, 0.3]\n",
    "\n",
    "\n",
    "    ##### NOTHING BELOW HERE SHOULD BE EDITED #####\n",
    "    option_ais =OptionAIS(\n",
    "            anneal_steps=1000, #1000\n",
    "            showevery=50, \n",
    "            chains=6_000, #5000\n",
    "            gibbs=false,\n",
    "            silent=false,\n",
    "            samplingDict=Dict(:traceevery=>1, :stopafter=>50, :max_sampling_steps=>2000),#1000\n",
    "            gpu = CUDA.functional() \n",
    "        )\n",
    "\n",
    "    @printf(\"GETTING ENTS AT DIFF T FOR MODELS FIT TO DATA FOR Tsec = %.2f and m=%i\\n\", \n",
    "            samples_to_fit_info[:T_sec], samples_to_fit_info[:m])\n",
    "    \n",
    "    ### make containers for in-sample and estimated out-of-sample loss for each model's sweep over hyperparams\n",
    "    sweep_dicts = Dict{Symbol, Any}()\n",
    "    for mdl in modls\n",
    "        sweep_dicts[mdl] = dict_list( params_sets[mdl] )\n",
    "    end\n",
    "\n",
    "    @show CUDA.functional()\n",
    "    ### for each model type (pairwise, rbm, sRBM)\n",
    "    for mdl in modls\n",
    "        mdldir(args...) = fitsdir(string(mdl), args...)\n",
    "\n",
    "        # swp_ds_string = mdldir( string(mdl)*\"_best_results.bson\")\n",
    "\n",
    "        ### do hyperparam sweep\n",
    "        swp_ds =  sweep_dicts[mdl] #alias\n",
    "        @printf \"\\n\"\n",
    "        @printf \"Begin calculations of H and frac_func of %s model\\n\" string(mdl)\n",
    "    #     d = swp_ds[job_id]\n",
    "        for d in swp_ds\n",
    "            @printf \"\\n\"\n",
    "            @printf \"-----------------------------------------------\\n\"\n",
    "            @printf \"%s\\n\" savename(d)\n",
    "\n",
    "            P = haskey(d, :P) ? d[:P] : 0\n",
    "            θ = initθ(mdl, q, N, P)\n",
    "\n",
    "            mdl_str = mdldir(savename(d))\n",
    "\n",
    "            if isfile( mdl_str*\".bson\" )\n",
    "                @printf \"model alrealy fit. loading into memory\\n\"\n",
    "            else\n",
    "                @error \"model $(mdl_str) not found.\" \n",
    "            end\n",
    "            merge!(d, BSON.load(mdl_str*\".bson\")[:d])\n",
    "\n",
    "\n",
    "            BSON.@load mdl_str*\"_model.bson\" vecθ\n",
    "            copyto!(θ, vecθ)\n",
    "\n",
    "            @printf \"-----------------------------------------------\\n\"\n",
    "\n",
    "            ###calculate entropy\n",
    "            @show typeof(θ)\n",
    "            for Tsamp in Tsamps\n",
    "                # check if samples file already exists\n",
    "                smpl_str=mdldir(savename(d)*\"_samples_T=$(Tsamp).bson\")\n",
    "                if isfile(smpl_str)\n",
    "                    # re-write any arrays that cu-arrays into regular arrays\n",
    "                    results = BSON.load(smpl_str)[:results]\n",
    "                    z_from_fit=results[:z_from_fit]\n",
    "                    results[:z_from_fit] = collect(z_from_fit)\n",
    "                    BSON.@save mdldir(savename(d)*\"_samples_T=$(Tsamp).bson\") results\n",
    "                    @printf \"samples at T=%f already exist for %s. skipping\\n\" Tsamp savename(d)\n",
    "\n",
    "                    # if Tsamp == 1, put ent and fpos into the corresponding model dict\n",
    "                    write_ents_f_pos_to_d(Tsec, m, Tsamp, results,d, mdl_str)\n",
    "\n",
    "                    continue\n",
    "                end\n",
    "\n",
    "                @printf \"calculating entropy for T = %f\\n\" Tsamp \n",
    "\n",
    "                ais_trace, fit_entropy, z_from_fit = calc_H ? begin\n",
    "                    ais_trace, ais_result, z_from_fit = AISlogZ(θ, option_ais, Tsamp)\n",
    "                    @show ais_result\n",
    "                    (ais_trace, ais_result, z_from_fit)\n",
    "                end : (nothing, nothing, nothing)\n",
    "\n",
    "            #         calc_frac_func && ( @printf \"frac_func = %f\" frac_func )\n",
    "            #         @printf \"\\n\"\n",
    "\n",
    "                z_from_fit = collect(z_from_fit)\n",
    "\n",
    "                ### put results in dictionary\n",
    "                results = Dict{Symbol, Any}(\n",
    "                        :z_from_fit => z_from_fit, :ais_trace=>ais_trace,\n",
    "                        :fit_entropy => fit_entropy )\n",
    "                \n",
    "                _, θsec = init_toy_model( Tsec, m=m )\n",
    "                f_pos, H_= get_fpos_from_samps(results,θsec)\n",
    "                \n",
    "                write_ents_f_pos_to_d(Tsec, m, Tsamp, results,d, mdl_str)\n",
    "                \n",
    "                results[:f_pos] = f_pos\n",
    "                \n",
    "                BSON.@save mdldir(savename(d)*\"_samples_T=$(Tsamp).bson\") results\n",
    "            end\n",
    "\n",
    "        end\n",
    "        #also save the vector of dictionaries with results\n",
    "    #     BSON.@save swp_ds_string swp_ds\n",
    "    end\n",
    "end\n",
    "\n",
    "@printf \"finished!\" "
   ]
  },
  {
   "cell_type": "code",
   "execution_count": null,
   "id": "5d940e57-be2d-42dc-b417-a262573df2b4",
   "metadata": {},
   "outputs": [],
   "source": []
  },
  {
   "cell_type": "code",
   "execution_count": 37,
   "id": "19d51ccd-b1cd-4f3b-8d88-79eb9240fa75",
   "metadata": {},
   "outputs": [
    {
     "data": {
      "text/plain": [
       "fitsdir (generic function with 1 method)"
      ]
     },
     "execution_count": 37,
     "metadata": {},
     "output_type": "execute_result"
    }
   ],
   "source": []
  },
  {
   "cell_type": "code",
   "execution_count": null,
   "id": "4b6e9270-b680-4199-ac03-00473226b0af",
   "metadata": {},
   "outputs": [],
   "source": []
  },
  {
   "cell_type": "code",
   "execution_count": 57,
   "id": "b8239438-3eca-4f3d-8b50-99c057dc4247",
   "metadata": {},
   "outputs": [],
   "source": [
    "BSON.@load datadir(\"toysector_q=5\", \"nsamples=500\",\n",
    "    \"fitted_models\",\"sector_temp=0.40_m=3\",\n",
    "    \"L2_regh=1e2.0_regJ=1e-2.0_samples_T=1.0.bson\") results"
   ]
  },
  {
   "cell_type": "code",
   "execution_count": 65,
   "id": "c0834355-b65d-4a9b-9b81-a3044d698e6e",
   "metadata": {},
   "outputs": [
    {
     "data": {
      "text/plain": [
       "5×35×5000 Array{Float32, 3}:\n",
       "[:, :, 1] =\n",
       " 0.0  0.0  0.0  0.0  0.0  0.0  0.0  1.0  …  0.0  0.0  0.0  0.0  0.0  0.0  0.0\n",
       " 1.0  1.0  0.0  0.0  0.0  0.0  0.0  0.0     0.0  0.0  1.0  0.0  0.0  1.0  0.0\n",
       " 0.0  0.0  0.0  1.0  0.0  0.0  0.0  0.0     0.0  0.0  0.0  0.0  0.0  0.0  0.0\n",
       " 0.0  0.0  1.0  0.0  1.0  0.0  0.0  0.0     0.0  0.0  0.0  0.0  0.0  0.0  0.0\n",
       " 0.0  0.0  0.0  0.0  0.0  1.0  1.0  0.0     1.0  1.0  0.0  1.0  1.0  0.0  1.0\n",
       "\n",
       "[:, :, 2] =\n",
       " 0.0  0.0  1.0  1.0  0.0  0.0  1.0  0.0  …  0.0  0.0  1.0  0.0  0.0  0.0  0.0\n",
       " 1.0  0.0  0.0  0.0  1.0  0.0  0.0  0.0     0.0  0.0  0.0  0.0  1.0  1.0  0.0\n",
       " 0.0  0.0  0.0  0.0  0.0  1.0  0.0  0.0     0.0  0.0  0.0  1.0  0.0  0.0  0.0\n",
       " 0.0  0.0  0.0  0.0  0.0  0.0  0.0  1.0     0.0  1.0  0.0  0.0  0.0  0.0  1.0\n",
       " 0.0  1.0  0.0  0.0  0.0  0.0  0.0  0.0     1.0  0.0  0.0  0.0  0.0  0.0  0.0\n",
       "\n",
       "[:, :, 3] =\n",
       " 1.0  1.0  0.0  0.0  0.0  0.0  0.0  1.0  …  0.0  0.0  0.0  0.0  0.0  0.0  0.0\n",
       " 0.0  0.0  0.0  0.0  1.0  0.0  0.0  0.0     0.0  0.0  0.0  0.0  0.0  0.0  1.0\n",
       " 0.0  0.0  0.0  1.0  0.0  0.0  1.0  0.0     0.0  0.0  0.0  0.0  0.0  0.0  0.0\n",
       " 0.0  0.0  1.0  0.0  0.0  0.0  0.0  0.0     1.0  1.0  1.0  1.0  1.0  1.0  0.0\n",
       " 0.0  0.0  0.0  0.0  0.0  1.0  0.0  0.0     0.0  0.0  0.0  0.0  0.0  0.0  0.0\n",
       "\n",
       ";;; … \n",
       "\n",
       "[:, :, 4998] =\n",
       " 0.0  0.0  1.0  0.0  0.0  1.0  0.0  0.0  …  0.0  0.0  0.0  0.0  1.0  1.0  0.0\n",
       " 0.0  0.0  0.0  0.0  0.0  0.0  1.0  1.0     0.0  0.0  0.0  1.0  0.0  0.0  0.0\n",
       " 1.0  0.0  0.0  0.0  0.0  0.0  0.0  0.0     0.0  0.0  0.0  0.0  0.0  0.0  0.0\n",
       " 0.0  1.0  0.0  0.0  0.0  0.0  0.0  0.0     1.0  0.0  0.0  0.0  0.0  0.0  1.0\n",
       " 0.0  0.0  0.0  1.0  1.0  0.0  0.0  0.0     0.0  1.0  1.0  0.0  0.0  0.0  0.0\n",
       "\n",
       "[:, :, 4999] =\n",
       " 0.0  0.0  1.0  1.0  0.0  1.0  1.0  1.0  …  0.0  0.0  0.0  0.0  0.0  0.0  0.0\n",
       " 1.0  0.0  0.0  0.0  1.0  0.0  0.0  0.0     0.0  1.0  1.0  0.0  1.0  1.0  0.0\n",
       " 0.0  0.0  0.0  0.0  0.0  0.0  0.0  0.0     0.0  0.0  0.0  0.0  0.0  0.0  0.0\n",
       " 0.0  0.0  0.0  0.0  0.0  0.0  0.0  0.0     0.0  0.0  0.0  1.0  0.0  0.0  1.0\n",
       " 0.0  1.0  0.0  0.0  0.0  0.0  0.0  0.0     1.0  0.0  0.0  0.0  0.0  0.0  0.0\n",
       "\n",
       "[:, :, 5000] =\n",
       " 0.0  0.0  0.0  1.0  0.0  0.0  0.0  0.0  …  0.0  0.0  0.0  0.0  0.0  0.0  0.0\n",
       " 1.0  0.0  0.0  0.0  0.0  1.0  0.0  0.0     0.0  0.0  1.0  0.0  1.0  0.0  0.0\n",
       " 0.0  1.0  1.0  0.0  1.0  0.0  1.0  1.0     1.0  1.0  0.0  1.0  0.0  0.0  1.0\n",
       " 0.0  0.0  0.0  0.0  0.0  0.0  0.0  0.0     0.0  0.0  0.0  0.0  0.0  0.0  0.0\n",
       " 0.0  0.0  0.0  0.0  0.0  0.0  0.0  0.0     0.0  0.0  0.0  0.0  0.0  1.0  0.0"
      ]
     },
     "execution_count": 65,
     "metadata": {},
     "output_type": "execute_result"
    }
   ],
   "source": [
    "results[:z_from_fit]"
   ]
  },
  {
   "cell_type": "code",
   "execution_count": 38,
   "id": "43b7ded7-067a-457e-8e67-29f3554869e7",
   "metadata": {},
   "outputs": [
    {
     "data": {
      "text/plain": [
       "Dict{Symbol, Any} with 1 entry:\n",
       "  :d => Dict{Symbol, Any}(:progTol=>1.0e-6, :true_entropy=>7.40194, :false_pos_…"
      ]
     },
     "execution_count": 38,
     "metadata": {},
     "output_type": "execute_result"
    }
   ],
   "source": []
  },
  {
   "cell_type": "code",
   "execution_count": 43,
   "id": "21ba56b5-756e-4692-ac4c-56265a66c291",
   "metadata": {},
   "outputs": [
    {
     "data": {
      "text/plain": [
       "Dict{Symbol, Any} with 14 entries:\n",
       "  :progTol        => 1.0e-6\n",
       "  :true_entropy   => nothing\n",
       "  :false_pos_rate => nothing\n",
       "  :reg_J          => (0.01, 2)\n",
       "  :fit_entropy    => nothing\n",
       "  :reg_h          => (100.0, 2)\n",
       "  :intrace        => Dict{Symbol, Any}(:time_run=>0.809937, :f_training=>Float3…\n",
       "  :𝕍              => Float32[0.922305, 0.90658, 0.905397, 0.917069, 0.916747]\n",
       "  :std𝕍           => 0.0073193\n",
       "  :mean𝕍          => 0.913619\n",
       "  :showevery      => 500\n",
       "  :epochs         => 20000\n",
       "  :𝕋              => (Dict{Symbol, Any}(:time_run=>0.323772, :f_training=>Float…\n",
       "  :inloss         => 0.705152"
      ]
     },
     "execution_count": 43,
     "metadata": {},
     "output_type": "execute_result"
    }
   ],
   "source": [
    "sampledir(args...) = datadir(\"toysector_q=5\", \n",
    "    \"nsamples=$(500)\", args...)\n",
    "\n",
    "fitsdir(args...) = sampledir(\"fitted_models\", \n",
    "    \"sector_temp=0.40_m=2\",\n",
    "    args...)\n",
    "\n",
    "results = BSON.load(fitsdir(\n",
    "        \"L2_regh=1e2.0_regJ=1e-2.0_best.bson\"))[:d]"
   ]
  },
  {
   "cell_type": "code",
   "execution_count": 42,
   "id": "c448640e-333f-423d-9e50-b647970d5508",
   "metadata": {},
   "outputs": [
    {
     "data": {
      "text/plain": [
       "Dict{Symbol, Any} with 14 entries:\n",
       "  :progTol        => 1.0e-6\n",
       "  :true_entropy   => nothing\n",
       "  :false_pos_rate => nothing\n",
       "  :reg_J          => (0.01, 2)\n",
       "  :fit_entropy    => nothing\n",
       "  :reg_h          => (100.0, 2)\n",
       "  :intrace        => Dict{Symbol, Any}(:time_run=>0.809937, :f_training=>Float3…\n",
       "  :𝕍              => Float32[0.922305, 0.90658, 0.905397, 0.917069, 0.916747]\n",
       "  :std𝕍           => 0.0073193\n",
       "  :mean𝕍          => 0.913619\n",
       "  :showevery      => 500\n",
       "  :epochs         => 20000\n",
       "  :𝕋              => (Dict{Symbol, Any}(:time_run=>0.323772, :f_training=>Float…\n",
       "  :inloss         => 0.705152"
      ]
     },
     "execution_count": 42,
     "metadata": {},
     "output_type": "execute_result"
    }
   ],
   "source": [
    "results[:d]"
   ]
  },
  {
   "cell_type": "code",
   "execution_count": 46,
   "id": "6b87cf63-f2c4-4ba6-8c40-7d9dfb92caf9",
   "metadata": {},
   "outputs": [],
   "source": [
    "# results = BSON.load(fitsdir(\n",
    "#         \"L2_regh=1e2.0_regJ=1e-2.0_bestmodel.bson\"))[:vecθ]"
   ]
  },
  {
   "cell_type": "code",
   "execution_count": null,
   "id": "b1abb858-209f-4696-9146-5a4d52b0e05d",
   "metadata": {},
   "outputs": [],
   "source": []
  }
 ],
 "metadata": {
  "kernelspec": {
   "display_name": "Julia 1.8.1",
   "language": "julia",
   "name": "julia-1.8"
  },
  "language_info": {
   "file_extension": ".jl",
   "mimetype": "application/julia",
   "name": "julia",
   "version": "1.8.1"
  }
 },
 "nbformat": 4,
 "nbformat_minor": 5
}
